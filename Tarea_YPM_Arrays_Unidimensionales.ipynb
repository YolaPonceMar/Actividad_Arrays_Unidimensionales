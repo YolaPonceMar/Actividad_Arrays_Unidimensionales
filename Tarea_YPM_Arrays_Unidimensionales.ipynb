{
 "cells": [
  {
   "cell_type": "code",
   "execution_count": 1,
   "id": "cf2f253f",
   "metadata": {},
   "outputs": [],
   "source": [
    "#Importa librería"
   ]
  },
  {
   "cell_type": "code",
   "execution_count": 2,
   "id": "87c887d2",
   "metadata": {},
   "outputs": [],
   "source": [
    "import numpy as np"
   ]
  },
  {
   "cell_type": "code",
   "execution_count": 4,
   "id": "20922ef7",
   "metadata": {},
   "outputs": [],
   "source": [
    "vector = [3, 4,5,6,7,8,9,10,11,12,23,24,15,16,17,18,19,29,21,22,23,24,25,26,27,28,29,30,31,32.33,34,35,36,37,38,39,40,41,42,43]"
   ]
  },
  {
   "cell_type": "code",
   "execution_count": 5,
   "id": "6e711198",
   "metadata": {},
   "outputs": [
    {
     "data": {
      "text/plain": [
       "[3,\n",
       " 4,\n",
       " 5,\n",
       " 6,\n",
       " 7,\n",
       " 8,\n",
       " 9,\n",
       " 10,\n",
       " 11,\n",
       " 12,\n",
       " 23,\n",
       " 24,\n",
       " 15,\n",
       " 16,\n",
       " 17,\n",
       " 18,\n",
       " 19,\n",
       " 29,\n",
       " 21,\n",
       " 22,\n",
       " 23,\n",
       " 24,\n",
       " 25,\n",
       " 26,\n",
       " 27,\n",
       " 28,\n",
       " 29,\n",
       " 30,\n",
       " 31,\n",
       " 32.33,\n",
       " 34,\n",
       " 35,\n",
       " 36,\n",
       " 37,\n",
       " 38,\n",
       " 39,\n",
       " 40,\n",
       " 41,\n",
       " 42,\n",
       " 43]"
      ]
     },
     "execution_count": 5,
     "metadata": {},
     "output_type": "execute_result"
    }
   ],
   "source": [
    "vector"
   ]
  },
  {
   "cell_type": "code",
   "execution_count": 7,
   "id": "94068b8e",
   "metadata": {},
   "outputs": [],
   "source": [
    "arreglo_ypm = np.array([0,1,2,3,4,0,1,2,3,4])"
   ]
  },
  {
   "cell_type": "code",
   "execution_count": 8,
   "id": "59a9b183",
   "metadata": {},
   "outputs": [
    {
     "data": {
      "text/plain": [
       "array([0, 1, 2, 3, 4, 0, 1, 2, 3, 4])"
      ]
     },
     "execution_count": 8,
     "metadata": {},
     "output_type": "execute_result"
    }
   ],
   "source": [
    "arreglo_ypm"
   ]
  },
  {
   "cell_type": "code",
   "execution_count": 9,
   "id": "bb6d1dc2",
   "metadata": {},
   "outputs": [],
   "source": [
    "arreglo_ypm.sort()"
   ]
  },
  {
   "cell_type": "code",
   "execution_count": 10,
   "id": "602bad12",
   "metadata": {},
   "outputs": [
    {
     "data": {
      "text/plain": [
       "array([0, 0, 1, 1, 2, 2, 3, 3, 4, 4])"
      ]
     },
     "execution_count": 10,
     "metadata": {},
     "output_type": "execute_result"
    }
   ],
   "source": [
    "arreglo_ypm"
   ]
  },
  {
   "cell_type": "code",
   "execution_count": null,
   "id": "999d3df5",
   "metadata": {},
   "outputs": [],
   "source": []
  }
 ],
 "metadata": {
  "kernelspec": {
   "display_name": "Python 3 (ipykernel)",
   "language": "python",
   "name": "python3"
  },
  "language_info": {
   "codemirror_mode": {
    "name": "ipython",
    "version": 3
   },
   "file_extension": ".py",
   "mimetype": "text/x-python",
   "name": "python",
   "nbconvert_exporter": "python",
   "pygments_lexer": "ipython3",
   "version": "3.9.12"
  }
 },
 "nbformat": 4,
 "nbformat_minor": 5
}
